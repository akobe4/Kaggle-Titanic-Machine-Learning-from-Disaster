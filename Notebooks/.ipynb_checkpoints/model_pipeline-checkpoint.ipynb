{
 "cells": [
  {
   "cell_type": "code",
   "execution_count": 1,
   "id": "08952917-b083-493d-976d-10192e9f968b",
   "metadata": {},
   "outputs": [],
   "source": [
    "import pandas as pd \n",
    "import numpy as np\n",
    "from sklearn.pipeline import Pipeline\n",
    "from sklearn.pipeline import FeatureUnion\n",
    "from sklearn.feature_selection import SelectKBest\n",
    "from sklearn.linear_model import RidgeClassifier\n",
    "from sklearn.model_selection import GridSearchCV\n",
    "from sklearn.svm import SVC\n",
    "from sklearn.compose import ColumnTransformer\n",
    "from sklearn.preprocessing import OneHotEncoder\n",
    "from sklearn.impute import SimpleImputer\n",
    "from sklearn.linear_model import LogisticRegression\n",
    "from sklearn.model_selection import train_test_split\n",
    "from sklearn.preprocessing import StandardScaler\n",
    "from sklearn.ensemble import RandomForestClassifier\n",
    "from sklearn.linear_model import RidgeClassifier \n",
    "import seaborn as sns\n",
    "from sklearn.metrics import accuracy_score\n",
    "import pickle\n",
    "from matplotlib import pyplot as plt\n",
    "sns.set_theme(context = 'talk', style = 'darkgrid')"
   ]
  },
  {
   "cell_type": "code",
   "execution_count": 20,
   "id": "3196b42c-cca7-4f97-b94c-bf31eea571c9",
   "metadata": {},
   "outputs": [],
   "source": [
    "train = pd.read_csv(r'C:\\Users\\akobe\\OneDrive\\Desktop\\Lighthouse\\After\\Kaggle-Titanic-Machine-Learning-from-Disaster\\Data\\train_transformed.csv',  index_col = [0])\n",
    "test = pd.read_csv(r'C:\\Users\\akobe\\OneDrive\\Desktop\\Lighthouse\\After\\Kaggle-Titanic-Machine-Learning-from-Disaster\\Data\\test_transformed.csv',  index_col = [0])"
   ]
  },
  {
   "cell_type": "code",
   "execution_count": 3,
   "id": "9130f3b1-5eb6-426d-9d2e-dbff547c6fc4",
   "metadata": {},
   "outputs": [
    {
     "data": {
      "text/html": [
       "<div>\n",
       "<style scoped>\n",
       "    .dataframe tbody tr th:only-of-type {\n",
       "        vertical-align: middle;\n",
       "    }\n",
       "\n",
       "    .dataframe tbody tr th {\n",
       "        vertical-align: top;\n",
       "    }\n",
       "\n",
       "    .dataframe thead th {\n",
       "        text-align: right;\n",
       "    }\n",
       "</style>\n",
       "<table border=\"1\" class=\"dataframe\">\n",
       "  <thead>\n",
       "    <tr style=\"text-align: right;\">\n",
       "      <th></th>\n",
       "      <th>PassengerId</th>\n",
       "      <th>Survived</th>\n",
       "      <th>Pclass</th>\n",
       "      <th>Sex</th>\n",
       "      <th>Age</th>\n",
       "      <th>SibSp</th>\n",
       "      <th>Parch</th>\n",
       "      <th>Fare</th>\n",
       "      <th>Embarked</th>\n",
       "      <th>Title</th>\n",
       "      <th>Family_size</th>\n",
       "      <th>Age_class</th>\n",
       "      <th>Fare_per_person</th>\n",
       "      <th>Age_group</th>\n",
       "    </tr>\n",
       "  </thead>\n",
       "  <tbody>\n",
       "    <tr>\n",
       "      <th>0</th>\n",
       "      <td>1</td>\n",
       "      <td>0</td>\n",
       "      <td>3</td>\n",
       "      <td>0</td>\n",
       "      <td>22.0</td>\n",
       "      <td>1</td>\n",
       "      <td>0</td>\n",
       "      <td>7.25</td>\n",
       "      <td>S</td>\n",
       "      <td>Mr</td>\n",
       "      <td>1</td>\n",
       "      <td>66.0</td>\n",
       "      <td>3.62</td>\n",
       "      <td>Y</td>\n",
       "    </tr>\n",
       "    <tr>\n",
       "      <th>1</th>\n",
       "      <td>2</td>\n",
       "      <td>1</td>\n",
       "      <td>1</td>\n",
       "      <td>1</td>\n",
       "      <td>38.0</td>\n",
       "      <td>1</td>\n",
       "      <td>0</td>\n",
       "      <td>71.28</td>\n",
       "      <td>C</td>\n",
       "      <td>Mrs</td>\n",
       "      <td>1</td>\n",
       "      <td>38.0</td>\n",
       "      <td>35.64</td>\n",
       "      <td>A</td>\n",
       "    </tr>\n",
       "  </tbody>\n",
       "</table>\n",
       "</div>"
      ],
      "text/plain": [
       "   PassengerId  Survived  Pclass  Sex   Age  SibSp  Parch   Fare Embarked  \\\n",
       "0            1         0       3    0  22.0      1      0   7.25        S   \n",
       "1            2         1       1    1  38.0      1      0  71.28        C   \n",
       "\n",
       "  Title  Family_size  Age_class  Fare_per_person Age_group  \n",
       "0    Mr            1       66.0             3.62         Y  \n",
       "1   Mrs            1       38.0            35.64         A  "
      ]
     },
     "execution_count": 3,
     "metadata": {},
     "output_type": "execute_result"
    }
   ],
   "source": [
    "train.head(2)"
   ]
  },
  {
   "cell_type": "code",
   "execution_count": 18,
   "id": "5f6df175-3bf5-4510-a55e-29d15c47b7c3",
   "metadata": {},
   "outputs": [
    {
     "data": {
      "text/html": [
       "<div>\n",
       "<style scoped>\n",
       "    .dataframe tbody tr th:only-of-type {\n",
       "        vertical-align: middle;\n",
       "    }\n",
       "\n",
       "    .dataframe tbody tr th {\n",
       "        vertical-align: top;\n",
       "    }\n",
       "\n",
       "    .dataframe thead th {\n",
       "        text-align: right;\n",
       "    }\n",
       "</style>\n",
       "<table border=\"1\" class=\"dataframe\">\n",
       "  <thead>\n",
       "    <tr style=\"text-align: right;\">\n",
       "      <th></th>\n",
       "      <th>PassengerId</th>\n",
       "      <th>Pclass</th>\n",
       "      <th>Sex</th>\n",
       "      <th>Age</th>\n",
       "      <th>SibSp</th>\n",
       "      <th>Parch</th>\n",
       "      <th>Fare</th>\n",
       "      <th>Embarked</th>\n",
       "      <th>Title</th>\n",
       "      <th>Family_size</th>\n",
       "      <th>Age_class</th>\n",
       "      <th>Fare_per_person</th>\n",
       "      <th>Age_group</th>\n",
       "    </tr>\n",
       "  </thead>\n",
       "  <tbody>\n",
       "    <tr>\n",
       "      <th>0</th>\n",
       "      <td>892</td>\n",
       "      <td>3</td>\n",
       "      <td>0</td>\n",
       "      <td>34.5</td>\n",
       "      <td>0</td>\n",
       "      <td>0</td>\n",
       "      <td>7.83</td>\n",
       "      <td>Q</td>\n",
       "      <td>Mr</td>\n",
       "      <td>0</td>\n",
       "      <td>103.5</td>\n",
       "      <td>7.83</td>\n",
       "      <td>A</td>\n",
       "    </tr>\n",
       "    <tr>\n",
       "      <th>1</th>\n",
       "      <td>893</td>\n",
       "      <td>3</td>\n",
       "      <td>1</td>\n",
       "      <td>47.0</td>\n",
       "      <td>1</td>\n",
       "      <td>0</td>\n",
       "      <td>7.00</td>\n",
       "      <td>S</td>\n",
       "      <td>Mrs</td>\n",
       "      <td>1</td>\n",
       "      <td>141.0</td>\n",
       "      <td>3.50</td>\n",
       "      <td>A</td>\n",
       "    </tr>\n",
       "  </tbody>\n",
       "</table>\n",
       "</div>"
      ],
      "text/plain": [
       "   PassengerId  Pclass  Sex   Age  SibSp  Parch  Fare Embarked Title  \\\n",
       "0          892       3    0  34.5      0      0  7.83        Q    Mr   \n",
       "1          893       3    1  47.0      1      0  7.00        S   Mrs   \n",
       "\n",
       "   Family_size  Age_class  Fare_per_person Age_group  \n",
       "0            0      103.5             7.83         A  \n",
       "1            1      141.0             3.50         A  "
      ]
     },
     "execution_count": 18,
     "metadata": {},
     "output_type": "execute_result"
    }
   ],
   "source": [
    "test.head(2)"
   ]
  },
  {
   "cell_type": "code",
   "execution_count": 21,
   "id": "55753077-1c8a-41ce-8ec0-29abf34a091b",
   "metadata": {},
   "outputs": [],
   "source": [
    "#create a dataframe of passenger ID's \n",
    "test_passId = test['PassengerId'].tolist()"
   ]
  },
  {
   "cell_type": "code",
   "execution_count": 7,
   "id": "2d7a1e0e-3503-451b-9f2b-b16f1c5af02f",
   "metadata": {},
   "outputs": [
    {
     "name": "stdout",
     "output_type": "stream",
     "text": [
      "<class 'pandas.core.frame.DataFrame'>\n",
      "Int64Index: 332 entries, 0 to 415\n",
      "Data columns (total 13 columns):\n",
      " #   Column           Non-Null Count  Dtype  \n",
      "---  ------           --------------  -----  \n",
      " 0   PassengerId      332 non-null    int64  \n",
      " 1   Pclass           332 non-null    int64  \n",
      " 2   Sex              332 non-null    int64  \n",
      " 3   Age              332 non-null    float64\n",
      " 4   SibSp            332 non-null    int64  \n",
      " 5   Parch            332 non-null    int64  \n",
      " 6   Fare             331 non-null    float64\n",
      " 7   Embarked         332 non-null    object \n",
      " 8   Title            332 non-null    object \n",
      " 9   Family_size      332 non-null    int64  \n",
      " 10  Age_class        332 non-null    float64\n",
      " 11  Fare_per_person  331 non-null    float64\n",
      " 12  Age_group        332 non-null    object \n",
      "dtypes: float64(4), int64(6), object(3)\n",
      "memory usage: 36.3+ KB\n"
     ]
    }
   ],
   "source": [
    "test.info()"
   ]
  },
  {
   "cell_type": "code",
   "execution_count": 8,
   "id": "992367a5-d3e2-48ff-b87a-816a67a799b8",
   "metadata": {},
   "outputs": [],
   "source": [
    "#replace missing values with NaN - test data \n",
    "cols_missing_vals = ['Fare_per_person'] # cols with missing values \n",
    "test[cols_missing_vals] = test[cols_missing_vals].replace(0, np.NaN) "
   ]
  },
  {
   "cell_type": "code",
   "execution_count": 9,
   "id": "b8bbaaf5-75d1-477a-8d5c-1342ce0a0636",
   "metadata": {},
   "outputs": [],
   "source": [
    "#drop NaNs - test data \n",
    "test = test.dropna(subset= ['Fare_per_person'])"
   ]
  },
  {
   "cell_type": "code",
   "execution_count": 10,
   "id": "2c3f6160-151f-429e-a1b4-6e671771f1ae",
   "metadata": {},
   "outputs": [],
   "source": [
    "#fare and embarked removed as they are related to class \n",
    "# 56% of passengers that embarked at Cherbourg were 1st class \n",
    "train = train.drop(columns = ['PassengerId', 'Fare', 'Embarked'])\n",
    "test = test.drop(columns = ['PassengerId', 'Fare', 'Embarked'])"
   ]
  },
  {
   "cell_type": "code",
   "execution_count": 11,
   "id": "4251a5ba-f947-4b61-9e05-4e03529e601f",
   "metadata": {},
   "outputs": [],
   "source": [
    "# split data into target variable and features \n",
    "\n",
    "#train set \n",
    "X_train = train.drop(columns=['Survived']) #features \n",
    "y_train = train['Survived'] #target variable \n",
    "\n",
    "#test set \n",
    "#X_test = test.drop(columns=['Survived']) #features \n",
    "#y_test = test['Survived'] #target variable"
   ]
  },
  {
   "cell_type": "code",
   "execution_count": 9,
   "id": "96eac95a-6819-41a5-b9be-4de3b3672c17",
   "metadata": {},
   "outputs": [
    {
     "name": "stdout",
     "output_type": "stream",
     "text": [
      "Best test set is achieved with hyperparameters: {'classifier': RandomForestClassifier(), 'select_best__k': 5}\n"
     ]
    }
   ],
   "source": [
    "#creating a pipeline - to determine the best hyperparameters \n",
    "\n",
    "#how to handle numerical and categorical variables \n",
    "numeric_transform = Pipeline([('scaling', StandardScaler())])\n",
    "categorical_transform = Pipeline([('one-hot-encode', OneHotEncoder(handle_unknown='ignore', sparse=False))])\n",
    "\n",
    "#indicating numerical/catergorical columns \n",
    "preprocessing_tips = ColumnTransformer([('numeric', numeric_transform, ['Pclass', 'Age', 'SibSp', 'Parch', 'Family_size',\n",
    "                                                                           'Age_class', 'Fare_per_person']),\n",
    "                                         ('categorical', categorical_transform, ['Sex', 'Title', 'Age_group'])])\n",
    "\n",
    "#pipeline \n",
    "pipeline = Pipeline(steps = [('preprocesing', preprocessing_tips),\n",
    "                             ('select_best', SelectKBest()),\n",
    "                             ('classifier', LogisticRegression())])\n",
    "\n",
    "#parameters grid \n",
    "param_grid = {'classifier': [LogisticRegression(), SVC(), RandomForestClassifier(), RidgeClassifier()],\n",
    "              'select_best__k': [3,4,5]}\n",
    "\n",
    "grid = GridSearchCV(pipeline, param_grid = param_grid, cv=5)\n",
    "grid.fit(X_train, y_train)\n",
    "\n",
    "best_model = grid.best_estimator_\n",
    "best_hyperparams = grid.best_params_\n",
    "#best_acc = grid.score(X_, y_test)\n",
    "\n",
    "print(f'Best test set is achieved with hyperparameters: {best_hyperparams}')\n",
    "#print(f'Best test set accuracy: {best_acc}\\nAchieved with hyperparameters: {best_hyperparams}')"
   ]
  },
  {
   "cell_type": "code",
   "execution_count": 11,
   "id": "8d6407a8-956b-45ac-b7b3-f31717c1b8f2",
   "metadata": {},
   "outputs": [
    {
     "name": "stdout",
     "output_type": "stream",
     "text": [
      "The best features are: [ True False False False False  True False  True  True False False False\n",
      "  True False False False False False]\n"
     ]
    }
   ],
   "source": [
    "#creating a pipeline \n",
    "#model with best hyperparameters \n",
    "\n",
    "#how to handle numerical and categorical variables \n",
    "numeric_transform = Pipeline([('scaling', StandardScaler())])\n",
    "categorical_transform = Pipeline([('one-hot-encode', OneHotEncoder(handle_unknown='ignore', sparse=False))])\n",
    "\n",
    "#indicating numerical/catergorical columns \n",
    "preprocessing_tips = ColumnTransformer([('numeric', numeric_transform, ['Pclass', 'Age', 'SibSp', 'Parch', 'Family_size',\n",
    "                                                                           'Age_class', 'Fare_per_person']),\n",
    "                                         ('categorical', categorical_transform, ['Sex', 'Title', 'Age_group'])])\n",
    "\n",
    "#pipeline \n",
    "pipeline = Pipeline(steps = [('preprocesing', preprocessing_tips),\n",
    "                             ('select_best', SelectKBest(k = 5)),\n",
    "                             ('classifier', RandomForestClassifier())])\n",
    "\n",
    "pipeline.fit(X_train, y_train)\n",
    "\n",
    "best_features = pipeline.named_steps['select_best'].get_support()\n",
    "\n",
    "print(f'The best features are: {best_features}')"
   ]
  },
  {
   "cell_type": "code",
   "execution_count": 12,
   "id": "f97626f6-b142-4ca3-8447-25a0feb45d6d",
   "metadata": {},
   "outputs": [
    {
     "data": {
      "text/html": [
       "<div>\n",
       "<style scoped>\n",
       "    .dataframe tbody tr th:only-of-type {\n",
       "        vertical-align: middle;\n",
       "    }\n",
       "\n",
       "    .dataframe tbody tr th {\n",
       "        vertical-align: top;\n",
       "    }\n",
       "\n",
       "    .dataframe thead th {\n",
       "        text-align: right;\n",
       "    }\n",
       "</style>\n",
       "<table border=\"1\" class=\"dataframe\">\n",
       "  <thead>\n",
       "    <tr style=\"text-align: right;\">\n",
       "      <th></th>\n",
       "      <th>Pclass</th>\n",
       "      <th>Sex</th>\n",
       "      <th>Age</th>\n",
       "      <th>SibSp</th>\n",
       "      <th>Parch</th>\n",
       "      <th>Title</th>\n",
       "      <th>Family_size</th>\n",
       "      <th>Age_class</th>\n",
       "      <th>Fare_per_person</th>\n",
       "      <th>Age_group</th>\n",
       "    </tr>\n",
       "  </thead>\n",
       "  <tbody>\n",
       "    <tr>\n",
       "      <th>0</th>\n",
       "      <td>3</td>\n",
       "      <td>0</td>\n",
       "      <td>22.0</td>\n",
       "      <td>1</td>\n",
       "      <td>0</td>\n",
       "      <td>Mr</td>\n",
       "      <td>1</td>\n",
       "      <td>66.0</td>\n",
       "      <td>3.62</td>\n",
       "      <td>Y</td>\n",
       "    </tr>\n",
       "    <tr>\n",
       "      <th>1</th>\n",
       "      <td>1</td>\n",
       "      <td>1</td>\n",
       "      <td>38.0</td>\n",
       "      <td>1</td>\n",
       "      <td>0</td>\n",
       "      <td>Mrs</td>\n",
       "      <td>1</td>\n",
       "      <td>38.0</td>\n",
       "      <td>35.64</td>\n",
       "      <td>A</td>\n",
       "    </tr>\n",
       "    <tr>\n",
       "      <th>2</th>\n",
       "      <td>3</td>\n",
       "      <td>1</td>\n",
       "      <td>26.0</td>\n",
       "      <td>0</td>\n",
       "      <td>0</td>\n",
       "      <td>Miss</td>\n",
       "      <td>0</td>\n",
       "      <td>78.0</td>\n",
       "      <td>7.92</td>\n",
       "      <td>A</td>\n",
       "    </tr>\n",
       "    <tr>\n",
       "      <th>3</th>\n",
       "      <td>1</td>\n",
       "      <td>1</td>\n",
       "      <td>35.0</td>\n",
       "      <td>1</td>\n",
       "      <td>0</td>\n",
       "      <td>Mrs</td>\n",
       "      <td>1</td>\n",
       "      <td>35.0</td>\n",
       "      <td>26.55</td>\n",
       "      <td>A</td>\n",
       "    </tr>\n",
       "    <tr>\n",
       "      <th>4</th>\n",
       "      <td>3</td>\n",
       "      <td>0</td>\n",
       "      <td>35.0</td>\n",
       "      <td>0</td>\n",
       "      <td>0</td>\n",
       "      <td>Mr</td>\n",
       "      <td>0</td>\n",
       "      <td>105.0</td>\n",
       "      <td>8.05</td>\n",
       "      <td>A</td>\n",
       "    </tr>\n",
       "  </tbody>\n",
       "</table>\n",
       "</div>"
      ],
      "text/plain": [
       "   Pclass  Sex   Age  SibSp  Parch Title  Family_size  Age_class  \\\n",
       "0       3    0  22.0      1      0    Mr            1       66.0   \n",
       "1       1    1  38.0      1      0   Mrs            1       38.0   \n",
       "2       3    1  26.0      0      0  Miss            0       78.0   \n",
       "3       1    1  35.0      1      0   Mrs            1       35.0   \n",
       "4       3    0  35.0      0      0    Mr            0      105.0   \n",
       "\n",
       "   Fare_per_person Age_group  \n",
       "0             3.62         Y  \n",
       "1            35.64         A  \n",
       "2             7.92         A  \n",
       "3            26.55         A  \n",
       "4             8.05         A  "
      ]
     },
     "execution_count": 12,
     "metadata": {},
     "output_type": "execute_result"
    }
   ],
   "source": [
    "X_train.head()"
   ]
  },
  {
   "cell_type": "code",
   "execution_count": 15,
   "id": "827e1e2a-822f-4c1d-ae22-cdb4dc36d490",
   "metadata": {},
   "outputs": [],
   "source": [
    "# Save the model\n",
    "with open('model.pkl', 'wb') as f:\n",
    "    pickle.dump(pipeline, f)"
   ]
  },
  {
   "cell_type": "code",
   "execution_count": 16,
   "id": "50826ee2-0c62-45ab-87bf-6aaeb9c23705",
   "metadata": {},
   "outputs": [],
   "source": [
    "# saving the columns\n",
    "model_columns = list(X_train.columns)\n",
    "with open('model_columns.pkl','wb') as file:\n",
    "    pickle.dump(model_columns, file)"
   ]
  },
  {
   "cell_type": "markdown",
   "id": "d2abbab3-ee5c-465b-94ff-b77721ed4b8f",
   "metadata": {},
   "source": [
    "## Opening the model "
   ]
  },
  {
   "cell_type": "code",
   "execution_count": 12,
   "id": "d2f5b9ea-b22f-40d7-9823-323679bc98ad",
   "metadata": {},
   "outputs": [],
   "source": [
    "# importing models\n",
    "with open(r'C:\\Users\\akobe\\OneDrive\\Desktop\\Lighthouse\\After\\Kaggle-Titanic-Machine-Learning-from-Disaster\\pickle_files\\model.pkl', 'rb') as f:\n",
    "       classifier = pickle.load (f)"
   ]
  },
  {
   "cell_type": "code",
   "execution_count": 13,
   "id": "59a11c12-d308-4794-82b4-54366e581572",
   "metadata": {},
   "outputs": [
    {
     "data": {
      "text/plain": [
       "array([0, 0, 1, 1, 1, 0, 0, 0, 0, 0, 0, 1, 1, 1, 1, 0, 0, 1, 0, 0, 1, 0,\n",
       "       1, 0, 1, 0, 1, 0, 0, 1, 0, 0, 0, 0, 0, 0, 1, 1, 0, 0, 1, 1, 0, 0,\n",
       "       1, 1, 0, 0, 0, 1, 0, 0, 0, 1, 1, 0, 0, 0, 1, 1, 0, 0, 1, 1, 0, 1,\n",
       "       0, 1, 1, 0, 1, 1, 0, 1, 1, 1, 1, 0, 1, 0, 0, 0, 1, 0, 0, 1, 0, 0,\n",
       "       0, 0, 1, 0, 1, 0, 1, 1, 1, 1, 1, 0, 1, 0, 0, 0, 0, 0, 0, 0, 1, 0,\n",
       "       1, 0, 0, 1, 0, 0, 1, 0, 0, 0, 1, 1, 1, 0, 1, 1, 1, 1, 0, 0, 0, 1,\n",
       "       1, 0, 1, 1, 0, 0, 1, 1, 0, 1, 1, 0, 0, 1, 1, 0, 1, 0, 0, 0, 0, 0,\n",
       "       1, 0, 1, 0, 0, 1, 0, 1, 0, 1, 0, 1, 0, 0, 0, 0, 1, 1, 0, 1, 1, 0,\n",
       "       1, 0, 1, 0, 0, 0, 0, 1, 0, 0, 0, 0, 0, 1, 1, 1, 1, 0, 1, 1, 0, 1,\n",
       "       1, 0, 1, 0, 0, 0, 1, 0, 0, 0, 1, 1, 0, 0, 0, 1, 1, 0, 0, 0, 0, 1,\n",
       "       1, 0, 0, 0, 0, 0, 1, 0, 0, 1, 0, 0, 0, 0, 0, 1, 0, 1, 0, 0, 0, 0,\n",
       "       0, 1, 1, 0, 0, 1, 0, 0, 0, 0, 0, 1, 0, 1, 0, 0, 0, 1, 0, 1, 1, 0,\n",
       "       0, 0, 0, 0, 0, 1, 1, 0, 1, 0, 1, 1, 0, 0, 0, 1, 0, 1, 0, 1, 1, 1,\n",
       "       1, 0, 1, 1, 0, 0, 1, 0, 1, 1, 1, 0, 0, 0, 0, 1, 1, 0, 0, 0, 1, 1,\n",
       "       1, 1, 0, 0, 1, 0, 1, 0, 0, 1, 0, 1, 1, 1, 0, 0, 0, 0, 1, 0, 1, 0],\n",
       "      dtype=int64)"
      ]
     },
     "execution_count": 13,
     "metadata": {},
     "output_type": "execute_result"
    }
   ],
   "source": [
    "#predict survival \n",
    "y_pred = classifier.predict(test)\n",
    "y_pred"
   ]
  },
  {
   "cell_type": "code",
   "execution_count": 14,
   "id": "7d1d3095-1701-4150-8b0d-38f9db51618a",
   "metadata": {},
   "outputs": [],
   "source": [
    "survival= y_pred.tolist()"
   ]
  },
  {
   "cell_type": "code",
   "execution_count": 22,
   "id": "bdce4f2a-7212-4c7c-8656-078f94648155",
   "metadata": {},
   "outputs": [
    {
     "data": {
      "text/html": [
       "<div>\n",
       "<style scoped>\n",
       "    .dataframe tbody tr th:only-of-type {\n",
       "        vertical-align: middle;\n",
       "    }\n",
       "\n",
       "    .dataframe tbody tr th {\n",
       "        vertical-align: top;\n",
       "    }\n",
       "\n",
       "    .dataframe thead th {\n",
       "        text-align: right;\n",
       "    }\n",
       "</style>\n",
       "<table border=\"1\" class=\"dataframe\">\n",
       "  <thead>\n",
       "    <tr style=\"text-align: right;\">\n",
       "      <th></th>\n",
       "      <th>id</th>\n",
       "      <th>survival</th>\n",
       "    </tr>\n",
       "  </thead>\n",
       "  <tbody>\n",
       "    <tr>\n",
       "      <th>0</th>\n",
       "      <td>892</td>\n",
       "      <td>0</td>\n",
       "    </tr>\n",
       "    <tr>\n",
       "      <th>1</th>\n",
       "      <td>893</td>\n",
       "      <td>0</td>\n",
       "    </tr>\n",
       "    <tr>\n",
       "      <th>2</th>\n",
       "      <td>894</td>\n",
       "      <td>1</td>\n",
       "    </tr>\n",
       "    <tr>\n",
       "      <th>3</th>\n",
       "      <td>895</td>\n",
       "      <td>1</td>\n",
       "    </tr>\n",
       "    <tr>\n",
       "      <th>4</th>\n",
       "      <td>896</td>\n",
       "      <td>1</td>\n",
       "    </tr>\n",
       "  </tbody>\n",
       "</table>\n",
       "</div>"
      ],
      "text/plain": [
       "    id  survival\n",
       "0  892         0\n",
       "1  893         0\n",
       "2  894         1\n",
       "3  895         1\n",
       "4  896         1"
      ]
     },
     "execution_count": 22,
     "metadata": {},
     "output_type": "execute_result"
    }
   ],
   "source": [
    "#create dataframe with passenger ID and survival \n",
    "final_predictions = pd.DataFrame(list(zip(test_passId, survival)), \n",
    "                                columns = ['id', 'survival'])\n",
    "final_predictions.head()"
   ]
  },
  {
   "cell_type": "code",
   "execution_count": 23,
   "id": "410c365a-3cdb-42d0-84f9-e3443e7ea3fa",
   "metadata": {},
   "outputs": [],
   "source": [
    "#save the final predictions \n",
    "#final_predictions.to_csv('final_predictions.csv')"
   ]
  }
 ],
 "metadata": {
  "kernelspec": {
   "display_name": "lighthouse",
   "language": "python",
   "name": "lighthouse"
  },
  "language_info": {
   "codemirror_mode": {
    "name": "ipython",
    "version": 3
   },
   "file_extension": ".py",
   "mimetype": "text/x-python",
   "name": "python",
   "nbconvert_exporter": "python",
   "pygments_lexer": "ipython3",
   "version": "3.9.13"
  }
 },
 "nbformat": 4,
 "nbformat_minor": 5
}
