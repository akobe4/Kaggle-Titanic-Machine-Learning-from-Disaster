{
 "cells": [
  {
   "cell_type": "code",
   "execution_count": 1,
   "id": "08952917-b083-493d-976d-10192e9f968b",
   "metadata": {},
   "outputs": [],
   "source": [
    "import pandas as pd \n",
    "import numpy as np\n",
    "from sklearn.pipeline import Pipeline\n",
    "from sklearn.pipeline import FeatureUnion\n",
    "from sklearn.feature_selection import SelectKBest\n",
    "from sklearn.linear_model import RidgeClassifier\n",
    "from sklearn.model_selection import GridSearchCV\n",
    "from sklearn.svm import SVC\n",
    "from sklearn.compose import ColumnTransformer\n",
    "from sklearn.preprocessing import OneHotEncoder\n",
    "from sklearn.impute import SimpleImputer\n",
    "from sklearn.linear_model import LogisticRegression\n",
    "from sklearn.model_selection import train_test_split\n",
    "from sklearn.preprocessing import StandardScaler\n",
    "from sklearn.ensemble import RandomForestClassifier\n",
    "from sklearn.linear_model import RidgeClassifier \n",
    "import seaborn as sns\n",
    "from sklearn.metrics import accuracy_score\n",
    "import pickle\n",
    "from matplotlib import pyplot as plt\n",
    "sns.set_theme(context = 'talk', style = 'darkgrid')"
   ]
  },
  {
   "cell_type": "code",
   "execution_count": 7,
   "id": "3196b42c-cca7-4f97-b94c-bf31eea571c9",
   "metadata": {},
   "outputs": [],
   "source": [
    "data = pd.read_csv(r'C:\\Users\\akobe\\OneDrive\\Desktop\\Lighthouse\\After\\Kaggle-Titanic-Machine-Learning-from-Disaster\\Data\\train_transformed.csv',  index_col = [0])"
   ]
  },
  {
   "cell_type": "code",
   "execution_count": 15,
   "id": "9130f3b1-5eb6-426d-9d2e-dbff547c6fc4",
   "metadata": {},
   "outputs": [
    {
     "data": {
      "text/html": [
       "<div>\n",
       "<style scoped>\n",
       "    .dataframe tbody tr th:only-of-type {\n",
       "        vertical-align: middle;\n",
       "    }\n",
       "\n",
       "    .dataframe tbody tr th {\n",
       "        vertical-align: top;\n",
       "    }\n",
       "\n",
       "    .dataframe thead th {\n",
       "        text-align: right;\n",
       "    }\n",
       "</style>\n",
       "<table border=\"1\" class=\"dataframe\">\n",
       "  <thead>\n",
       "    <tr style=\"text-align: right;\">\n",
       "      <th></th>\n",
       "      <th>Survived</th>\n",
       "      <th>Pclass</th>\n",
       "      <th>Sex</th>\n",
       "      <th>Age</th>\n",
       "      <th>SibSp</th>\n",
       "      <th>Parch</th>\n",
       "      <th>Fare</th>\n",
       "      <th>Embarked</th>\n",
       "      <th>Title</th>\n",
       "      <th>Family_size</th>\n",
       "      <th>Age_class</th>\n",
       "      <th>Fare_per_person</th>\n",
       "      <th>Age_group</th>\n",
       "    </tr>\n",
       "  </thead>\n",
       "  <tbody>\n",
       "    <tr>\n",
       "      <th>0</th>\n",
       "      <td>0</td>\n",
       "      <td>3</td>\n",
       "      <td>0</td>\n",
       "      <td>22.0</td>\n",
       "      <td>1</td>\n",
       "      <td>0</td>\n",
       "      <td>7.25</td>\n",
       "      <td>S</td>\n",
       "      <td>Mr</td>\n",
       "      <td>1</td>\n",
       "      <td>66.0</td>\n",
       "      <td>3.62</td>\n",
       "      <td>Y</td>\n",
       "    </tr>\n",
       "    <tr>\n",
       "      <th>1</th>\n",
       "      <td>1</td>\n",
       "      <td>1</td>\n",
       "      <td>1</td>\n",
       "      <td>38.0</td>\n",
       "      <td>1</td>\n",
       "      <td>0</td>\n",
       "      <td>71.28</td>\n",
       "      <td>C</td>\n",
       "      <td>Mrs</td>\n",
       "      <td>1</td>\n",
       "      <td>38.0</td>\n",
       "      <td>35.64</td>\n",
       "      <td>A</td>\n",
       "    </tr>\n",
       "  </tbody>\n",
       "</table>\n",
       "</div>"
      ],
      "text/plain": [
       "   Survived  Pclass  Sex   Age  SibSp  Parch   Fare Embarked Title  \\\n",
       "0         0       3    0  22.0      1      0   7.25        S    Mr   \n",
       "1         1       1    1  38.0      1      0  71.28        C   Mrs   \n",
       "\n",
       "   Family_size  Age_class  Fare_per_person Age_group  \n",
       "0            1       66.0             3.62         Y  \n",
       "1            1       38.0            35.64         A  "
      ]
     },
     "execution_count": 15,
     "metadata": {},
     "output_type": "execute_result"
    }
   ],
   "source": [
    "data.head(2)"
   ]
  },
  {
   "cell_type": "code",
   "execution_count": 12,
   "id": "2c3f6160-151f-429e-a1b4-6e671771f1ae",
   "metadata": {},
   "outputs": [],
   "source": [
    "data = data.drop(columns = ['PassengerId'])"
   ]
  },
  {
   "cell_type": "code",
   "execution_count": 16,
   "id": "4251a5ba-f947-4b61-9e05-4e03529e601f",
   "metadata": {},
   "outputs": [],
   "source": [
    "# split data into target variable and features \n",
    "\n",
    "X_train = data.drop(columns=['Survived']) #features \n",
    "y_train = data['Survived'] #target variable "
   ]
  },
  {
   "cell_type": "code",
   "execution_count": null,
   "id": "96eac95a-6819-41a5-b9be-4de3b3672c17",
   "metadata": {},
   "outputs": [],
   "source": [
    "#creating a pipeline - to determine the best hyperparameters \n",
    "\n",
    "#how to handle numerical and categorical variables \n",
    "numeric_transform = Pipeline([('scaling', StandardScaler())])\n",
    "categorical_transform = Pipeline([('one-hot-encode', OneHotEncoder(handle_unknown='ignore', sparse=False))])\n",
    "\n",
    "#indicating numerical/catergorical columns \n",
    "preprocessing_tips = ColumnTransformer([('numeric', numeric_transform, ['Pclass', 'Age', 'SibSp', 'Parch', 'Fare', 'Family_size',\n",
    "                                                                           'Age_class', 'Fare_per_person']),\n",
    "                                         ('categorical', categorical_transform, ['Sex', 'Embarked', 'Title', 'Age_group'])])\n",
    "\n",
    "#pipeline \n",
    "pipeline = Pipeline(steps = [('preprocesing', preprocessing_tips),\n",
    "                             ('select_best', SelectKBest()),\n",
    "                             ('classifier', LogisticRegression())])\n",
    "\n",
    "#parameters grid \n",
    "param_grid = {'classifier': [LogisticRegression(), SVC(), RandomForestClassifier(), RidgeClassifier()],\n",
    "              'select_best__k': [3,4,5,6]}\n",
    "\n",
    "grid = GridSearchCV(pipeline, param_grid = param_grid, cv=5)\n",
    "grid.fit(X_train, y_train)\n",
    "\n",
    "best_model = grid.best_estimator_\n",
    "best_hyperparams = grid.best_params_\n",
    "best_acc = grid.score(X_test, y_test)\n",
    "\n",
    "print(f'Best test set accuracy: {best_acc}\\nAchieved with hyperparameters: {best_hyperparams}')"
   ]
  }
 ],
 "metadata": {
  "kernelspec": {
   "display_name": "lighthouse",
   "language": "python",
   "name": "lighthouse"
  },
  "language_info": {
   "codemirror_mode": {
    "name": "ipython",
    "version": 3
   },
   "file_extension": ".py",
   "mimetype": "text/x-python",
   "name": "python",
   "nbconvert_exporter": "python",
   "pygments_lexer": "ipython3",
   "version": "3.9.13"
  }
 },
 "nbformat": 4,
 "nbformat_minor": 5
}
